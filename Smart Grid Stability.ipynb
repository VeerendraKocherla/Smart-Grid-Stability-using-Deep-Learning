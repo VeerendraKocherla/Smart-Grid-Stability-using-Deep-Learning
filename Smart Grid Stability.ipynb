{
 "cells": [
  {
   "cell_type": "code",
   "execution_count": 1,
   "id": "7ab18c89-ebac-437b-af4a-ded302279ec2",
   "metadata": {},
   "outputs": [],
   "source": [
    "import numpy as np\n",
    "%matplotlib inline\n",
    "import matplotlib.pyplot as plt\n",
    "import seaborn as sns\n",
    "import pandas as pd\n",
    "from sklearn.model_selection import train_test_split\n",
    "from sklearn.decomposition import PCA\n",
    "from sklearn.preprocessing import StandardScaler\n",
    "from sklearn.pipeline import Pipeline\n",
    "from sklearn.linear_model import LogisticRegression\n",
    "from xgboost import XGBClassifier\n",
    "from sklearn.svm import LinearSVC\n",
    "from sklearn.svm import SVC\n",
    "from sklearn.metrics import (accuracy_score, precision_score, \n",
    "                             recall_score, f1_score, confusion_matrix)\n",
    "\n",
    "import tensorflow as tf\n",
    "from tensorflow.keras.layers import InputLayer, Dense, BatchNormalization\n",
    "from tensorflow.keras.callbacks import ModelCheckpoint, EarlyStopping"
   ]
  },
  {
   "cell_type": "markdown",
   "id": "6d4bd9f2-1a9f-4cb8-8dce-7a829572b96e",
   "metadata": {},
   "source": [
    "# Analyzing the Data"
   ]
  },
  {
   "cell_type": "code",
   "execution_count": 2,
   "id": "dae113a3-0c04-4d8d-863f-68922955aba9",
   "metadata": {},
   "outputs": [
    {
     "data": {
      "text/html": [
       "<div>\n",
       "<style scoped>\n",
       "    .dataframe tbody tr th:only-of-type {\n",
       "        vertical-align: middle;\n",
       "    }\n",
       "\n",
       "    .dataframe tbody tr th {\n",
       "        vertical-align: top;\n",
       "    }\n",
       "\n",
       "    .dataframe thead th {\n",
       "        text-align: right;\n",
       "    }\n",
       "</style>\n",
       "<table border=\"1\" class=\"dataframe\">\n",
       "  <thead>\n",
       "    <tr style=\"text-align: right;\">\n",
       "      <th></th>\n",
       "      <th>tau1</th>\n",
       "      <th>tau2</th>\n",
       "      <th>tau3</th>\n",
       "      <th>tau4</th>\n",
       "      <th>p1</th>\n",
       "      <th>p2</th>\n",
       "      <th>p3</th>\n",
       "      <th>p4</th>\n",
       "      <th>g1</th>\n",
       "      <th>g2</th>\n",
       "      <th>g3</th>\n",
       "      <th>g4</th>\n",
       "      <th>stab</th>\n",
       "      <th>stabf</th>\n",
       "    </tr>\n",
       "  </thead>\n",
       "  <tbody>\n",
       "    <tr>\n",
       "      <th>0</th>\n",
       "      <td>2.959060</td>\n",
       "      <td>3.079885</td>\n",
       "      <td>8.381025</td>\n",
       "      <td>9.780754</td>\n",
       "      <td>3.763085</td>\n",
       "      <td>-0.782604</td>\n",
       "      <td>-1.257395</td>\n",
       "      <td>-1.723086</td>\n",
       "      <td>0.650456</td>\n",
       "      <td>0.859578</td>\n",
       "      <td>0.887445</td>\n",
       "      <td>0.958034</td>\n",
       "      <td>0.055347</td>\n",
       "      <td>unstable</td>\n",
       "    </tr>\n",
       "    <tr>\n",
       "      <th>1</th>\n",
       "      <td>9.304097</td>\n",
       "      <td>4.902524</td>\n",
       "      <td>3.047541</td>\n",
       "      <td>1.369357</td>\n",
       "      <td>5.067812</td>\n",
       "      <td>-1.940058</td>\n",
       "      <td>-1.872742</td>\n",
       "      <td>-1.255012</td>\n",
       "      <td>0.413441</td>\n",
       "      <td>0.862414</td>\n",
       "      <td>0.562139</td>\n",
       "      <td>0.781760</td>\n",
       "      <td>-0.005957</td>\n",
       "      <td>stable</td>\n",
       "    </tr>\n",
       "    <tr>\n",
       "      <th>2</th>\n",
       "      <td>8.971707</td>\n",
       "      <td>8.848428</td>\n",
       "      <td>3.046479</td>\n",
       "      <td>1.214518</td>\n",
       "      <td>3.405158</td>\n",
       "      <td>-1.207456</td>\n",
       "      <td>-1.277210</td>\n",
       "      <td>-0.920492</td>\n",
       "      <td>0.163041</td>\n",
       "      <td>0.766689</td>\n",
       "      <td>0.839444</td>\n",
       "      <td>0.109853</td>\n",
       "      <td>0.003471</td>\n",
       "      <td>unstable</td>\n",
       "    </tr>\n",
       "    <tr>\n",
       "      <th>3</th>\n",
       "      <td>0.716415</td>\n",
       "      <td>7.669600</td>\n",
       "      <td>4.486641</td>\n",
       "      <td>2.340563</td>\n",
       "      <td>3.963791</td>\n",
       "      <td>-1.027473</td>\n",
       "      <td>-1.938944</td>\n",
       "      <td>-0.997374</td>\n",
       "      <td>0.446209</td>\n",
       "      <td>0.976744</td>\n",
       "      <td>0.929381</td>\n",
       "      <td>0.362718</td>\n",
       "      <td>0.028871</td>\n",
       "      <td>unstable</td>\n",
       "    </tr>\n",
       "    <tr>\n",
       "      <th>4</th>\n",
       "      <td>3.134112</td>\n",
       "      <td>7.608772</td>\n",
       "      <td>4.943759</td>\n",
       "      <td>9.857573</td>\n",
       "      <td>3.525811</td>\n",
       "      <td>-1.125531</td>\n",
       "      <td>-1.845975</td>\n",
       "      <td>-0.554305</td>\n",
       "      <td>0.797110</td>\n",
       "      <td>0.455450</td>\n",
       "      <td>0.656947</td>\n",
       "      <td>0.820923</td>\n",
       "      <td>0.049860</td>\n",
       "      <td>unstable</td>\n",
       "    </tr>\n",
       "  </tbody>\n",
       "</table>\n",
       "</div>"
      ],
      "text/plain": [
       "       tau1      tau2      tau3      tau4        p1        p2        p3  \\\n",
       "0  2.959060  3.079885  8.381025  9.780754  3.763085 -0.782604 -1.257395   \n",
       "1  9.304097  4.902524  3.047541  1.369357  5.067812 -1.940058 -1.872742   \n",
       "2  8.971707  8.848428  3.046479  1.214518  3.405158 -1.207456 -1.277210   \n",
       "3  0.716415  7.669600  4.486641  2.340563  3.963791 -1.027473 -1.938944   \n",
       "4  3.134112  7.608772  4.943759  9.857573  3.525811 -1.125531 -1.845975   \n",
       "\n",
       "         p4        g1        g2        g3        g4      stab     stabf  \n",
       "0 -1.723086  0.650456  0.859578  0.887445  0.958034  0.055347  unstable  \n",
       "1 -1.255012  0.413441  0.862414  0.562139  0.781760 -0.005957    stable  \n",
       "2 -0.920492  0.163041  0.766689  0.839444  0.109853  0.003471  unstable  \n",
       "3 -0.997374  0.446209  0.976744  0.929381  0.362718  0.028871  unstable  \n",
       "4 -0.554305  0.797110  0.455450  0.656947  0.820923  0.049860  unstable  "
      ]
     },
     "execution_count": 2,
     "metadata": {},
     "output_type": "execute_result"
    }
   ],
   "source": [
    "df = pd.read_csv(\"smart_grid_stability_augmented.csv\")\n",
    "table = dict() # used for storing accuracy, precision, recall, f1score of each model\n",
    "df.head()"
   ]
  },
  {
   "cell_type": "code",
   "execution_count": 3,
   "id": "737cb3ed-1eb4-481d-935e-ed5a62881575",
   "metadata": {},
   "outputs": [
    {
     "name": "stdout",
     "output_type": "stream",
     "text": [
      "<class 'pandas.core.frame.DataFrame'>\n",
      "RangeIndex: 60000 entries, 0 to 59999\n",
      "Data columns (total 14 columns):\n",
      " #   Column  Non-Null Count  Dtype  \n",
      "---  ------  --------------  -----  \n",
      " 0   tau1    60000 non-null  float64\n",
      " 1   tau2    60000 non-null  float64\n",
      " 2   tau3    60000 non-null  float64\n",
      " 3   tau4    60000 non-null  float64\n",
      " 4   p1      60000 non-null  float64\n",
      " 5   p2      60000 non-null  float64\n",
      " 6   p3      60000 non-null  float64\n",
      " 7   p4      60000 non-null  float64\n",
      " 8   g1      60000 non-null  float64\n",
      " 9   g2      60000 non-null  float64\n",
      " 10  g3      60000 non-null  float64\n",
      " 11  g4      60000 non-null  float64\n",
      " 12  stab    60000 non-null  float64\n",
      " 13  stabf   60000 non-null  object \n",
      "dtypes: float64(13), object(1)\n",
      "memory usage: 6.4+ MB\n"
     ]
    }
   ],
   "source": [
    "df.info()"
   ]
  },
  {
   "cell_type": "code",
   "execution_count": 4,
   "id": "f4d182f8-3e25-4b29-9c21-6d165d61d5f7",
   "metadata": {},
   "outputs": [
    {
     "data": {
      "text/html": [
       "<div>\n",
       "<style scoped>\n",
       "    .dataframe tbody tr th:only-of-type {\n",
       "        vertical-align: middle;\n",
       "    }\n",
       "\n",
       "    .dataframe tbody tr th {\n",
       "        vertical-align: top;\n",
       "    }\n",
       "\n",
       "    .dataframe thead th {\n",
       "        text-align: right;\n",
       "    }\n",
       "</style>\n",
       "<table border=\"1\" class=\"dataframe\">\n",
       "  <thead>\n",
       "    <tr style=\"text-align: right;\">\n",
       "      <th></th>\n",
       "      <th>tau1</th>\n",
       "      <th>tau2</th>\n",
       "      <th>tau3</th>\n",
       "      <th>tau4</th>\n",
       "      <th>p1</th>\n",
       "      <th>p2</th>\n",
       "      <th>p3</th>\n",
       "      <th>p4</th>\n",
       "      <th>g1</th>\n",
       "      <th>g2</th>\n",
       "      <th>g3</th>\n",
       "      <th>g4</th>\n",
       "      <th>stab</th>\n",
       "    </tr>\n",
       "  </thead>\n",
       "  <tbody>\n",
       "    <tr>\n",
       "      <th>count</th>\n",
       "      <td>60000.000000</td>\n",
       "      <td>60000.000000</td>\n",
       "      <td>60000.000000</td>\n",
       "      <td>60000.000000</td>\n",
       "      <td>60000.000000</td>\n",
       "      <td>60000.000000</td>\n",
       "      <td>60000.000000</td>\n",
       "      <td>60000.000000</td>\n",
       "      <td>60000.000000</td>\n",
       "      <td>60000.000000</td>\n",
       "      <td>60000.000000</td>\n",
       "      <td>60000.000000</td>\n",
       "      <td>60000.000000</td>\n",
       "    </tr>\n",
       "    <tr>\n",
       "      <th>mean</th>\n",
       "      <td>5.250000</td>\n",
       "      <td>5.250001</td>\n",
       "      <td>5.250001</td>\n",
       "      <td>5.250001</td>\n",
       "      <td>3.750000</td>\n",
       "      <td>-1.250000</td>\n",
       "      <td>-1.250000</td>\n",
       "      <td>-1.250000</td>\n",
       "      <td>0.525000</td>\n",
       "      <td>0.525000</td>\n",
       "      <td>0.525000</td>\n",
       "      <td>0.525000</td>\n",
       "      <td>0.015731</td>\n",
       "    </tr>\n",
       "    <tr>\n",
       "      <th>std</th>\n",
       "      <td>2.742434</td>\n",
       "      <td>2.742437</td>\n",
       "      <td>2.742437</td>\n",
       "      <td>2.742437</td>\n",
       "      <td>0.752129</td>\n",
       "      <td>0.433017</td>\n",
       "      <td>0.433017</td>\n",
       "      <td>0.433017</td>\n",
       "      <td>0.274244</td>\n",
       "      <td>0.274243</td>\n",
       "      <td>0.274243</td>\n",
       "      <td>0.274243</td>\n",
       "      <td>0.036917</td>\n",
       "    </tr>\n",
       "    <tr>\n",
       "      <th>min</th>\n",
       "      <td>0.500793</td>\n",
       "      <td>0.500141</td>\n",
       "      <td>0.500141</td>\n",
       "      <td>0.500141</td>\n",
       "      <td>1.582590</td>\n",
       "      <td>-1.999945</td>\n",
       "      <td>-1.999945</td>\n",
       "      <td>-1.999945</td>\n",
       "      <td>0.050009</td>\n",
       "      <td>0.050028</td>\n",
       "      <td>0.050028</td>\n",
       "      <td>0.050028</td>\n",
       "      <td>-0.080760</td>\n",
       "    </tr>\n",
       "    <tr>\n",
       "      <th>25%</th>\n",
       "      <td>2.874892</td>\n",
       "      <td>2.875011</td>\n",
       "      <td>2.875011</td>\n",
       "      <td>2.875011</td>\n",
       "      <td>3.218300</td>\n",
       "      <td>-1.624997</td>\n",
       "      <td>-1.624997</td>\n",
       "      <td>-1.624997</td>\n",
       "      <td>0.287521</td>\n",
       "      <td>0.287497</td>\n",
       "      <td>0.287497</td>\n",
       "      <td>0.287497</td>\n",
       "      <td>-0.015557</td>\n",
       "    </tr>\n",
       "    <tr>\n",
       "      <th>50%</th>\n",
       "      <td>5.250004</td>\n",
       "      <td>5.249981</td>\n",
       "      <td>5.249981</td>\n",
       "      <td>5.249981</td>\n",
       "      <td>3.751025</td>\n",
       "      <td>-1.249996</td>\n",
       "      <td>-1.249996</td>\n",
       "      <td>-1.249996</td>\n",
       "      <td>0.525009</td>\n",
       "      <td>0.525007</td>\n",
       "      <td>0.525007</td>\n",
       "      <td>0.525007</td>\n",
       "      <td>0.017142</td>\n",
       "    </tr>\n",
       "    <tr>\n",
       "      <th>75%</th>\n",
       "      <td>7.624690</td>\n",
       "      <td>7.624896</td>\n",
       "      <td>7.624896</td>\n",
       "      <td>7.624896</td>\n",
       "      <td>4.282420</td>\n",
       "      <td>-0.874993</td>\n",
       "      <td>-0.874993</td>\n",
       "      <td>-0.874993</td>\n",
       "      <td>0.762435</td>\n",
       "      <td>0.762490</td>\n",
       "      <td>0.762490</td>\n",
       "      <td>0.762490</td>\n",
       "      <td>0.044878</td>\n",
       "    </tr>\n",
       "    <tr>\n",
       "      <th>max</th>\n",
       "      <td>9.999469</td>\n",
       "      <td>9.999837</td>\n",
       "      <td>9.999837</td>\n",
       "      <td>9.999837</td>\n",
       "      <td>5.864418</td>\n",
       "      <td>-0.500025</td>\n",
       "      <td>-0.500025</td>\n",
       "      <td>-0.500025</td>\n",
       "      <td>0.999937</td>\n",
       "      <td>0.999982</td>\n",
       "      <td>0.999982</td>\n",
       "      <td>0.999982</td>\n",
       "      <td>0.109403</td>\n",
       "    </tr>\n",
       "  </tbody>\n",
       "</table>\n",
       "</div>"
      ],
      "text/plain": [
       "               tau1          tau2          tau3          tau4            p1  \\\n",
       "count  60000.000000  60000.000000  60000.000000  60000.000000  60000.000000   \n",
       "mean       5.250000      5.250001      5.250001      5.250001      3.750000   \n",
       "std        2.742434      2.742437      2.742437      2.742437      0.752129   \n",
       "min        0.500793      0.500141      0.500141      0.500141      1.582590   \n",
       "25%        2.874892      2.875011      2.875011      2.875011      3.218300   \n",
       "50%        5.250004      5.249981      5.249981      5.249981      3.751025   \n",
       "75%        7.624690      7.624896      7.624896      7.624896      4.282420   \n",
       "max        9.999469      9.999837      9.999837      9.999837      5.864418   \n",
       "\n",
       "                 p2            p3            p4            g1            g2  \\\n",
       "count  60000.000000  60000.000000  60000.000000  60000.000000  60000.000000   \n",
       "mean      -1.250000     -1.250000     -1.250000      0.525000      0.525000   \n",
       "std        0.433017      0.433017      0.433017      0.274244      0.274243   \n",
       "min       -1.999945     -1.999945     -1.999945      0.050009      0.050028   \n",
       "25%       -1.624997     -1.624997     -1.624997      0.287521      0.287497   \n",
       "50%       -1.249996     -1.249996     -1.249996      0.525009      0.525007   \n",
       "75%       -0.874993     -0.874993     -0.874993      0.762435      0.762490   \n",
       "max       -0.500025     -0.500025     -0.500025      0.999937      0.999982   \n",
       "\n",
       "                 g3            g4          stab  \n",
       "count  60000.000000  60000.000000  60000.000000  \n",
       "mean       0.525000      0.525000      0.015731  \n",
       "std        0.274243      0.274243      0.036917  \n",
       "min        0.050028      0.050028     -0.080760  \n",
       "25%        0.287497      0.287497     -0.015557  \n",
       "50%        0.525007      0.525007      0.017142  \n",
       "75%        0.762490      0.762490      0.044878  \n",
       "max        0.999982      0.999982      0.109403  "
      ]
     },
     "execution_count": 4,
     "metadata": {},
     "output_type": "execute_result"
    }
   ],
   "source": [
    "df.describe()"
   ]
  },
  {
   "cell_type": "code",
   "execution_count": 5,
   "id": "80fcebe5-85fb-4663-8863-dc08159e5351",
   "metadata": {},
   "outputs": [
    {
     "data": {
      "image/png": "[encoded data removed]",
      "text/plain": [
       "<Figure size 1440x1080 with 16 Axes>"
      ]
     },
     "metadata": {
      "needs_background": "light"
     },
     "output_type": "display_data"
    }
   ],
   "source": [
    "df.hist(bins=50, figsize=(20, 15))\n",
    "plt.tight_layout()\n",
    "plt.show()"
   ]
  },
  {
   "cell_type": "code",
   "execution_count": 6,
   "id": "374a3d79-3c42-4bea-8bc1-0a28530e1f77",
   "metadata": {},
   "outputs": [
    {
     "data": {
      "text/html": [
       "<div>\n",
       "<style scoped>\n",
       "    .dataframe tbody tr th:only-of-type {\n",
       "        vertical-align: middle;\n",
       "    }\n",
       "\n",
       "    .dataframe tbody tr th {\n",
       "        vertical-align: top;\n",
       "    }\n",
       "\n",
       "    .dataframe thead th {\n",
       "        text-align: right;\n",
       "    }\n",
       "</style>\n",
       "<table border=\"1\" class=\"dataframe\">\n",
       "  <thead>\n",
       "    <tr style=\"text-align: right;\">\n",
       "      <th></th>\n",
       "      <th>tau1</th>\n",
       "      <th>tau2</th>\n",
       "      <th>tau3</th>\n",
       "      <th>tau4</th>\n",
       "      <th>p1</th>\n",
       "      <th>p2</th>\n",
       "      <th>p3</th>\n",
       "      <th>p4</th>\n",
       "      <th>g1</th>\n",
       "      <th>g2</th>\n",
       "      <th>g3</th>\n",
       "      <th>g4</th>\n",
       "      <th>stab</th>\n",
       "      <th>stabf</th>\n",
       "    </tr>\n",
       "  </thead>\n",
       "  <tbody>\n",
       "    <tr>\n",
       "      <th>0</th>\n",
       "      <td>2.959060</td>\n",
       "      <td>3.079885</td>\n",
       "      <td>8.381025</td>\n",
       "      <td>9.780754</td>\n",
       "      <td>3.763085</td>\n",
       "      <td>-0.782604</td>\n",
       "      <td>-1.257395</td>\n",
       "      <td>-1.723086</td>\n",
       "      <td>0.650456</td>\n",
       "      <td>0.859578</td>\n",
       "      <td>0.887445</td>\n",
       "      <td>0.958034</td>\n",
       "      <td>0.055347</td>\n",
       "      <td>0</td>\n",
       "    </tr>\n",
       "    <tr>\n",
       "      <th>1</th>\n",
       "      <td>9.304097</td>\n",
       "      <td>4.902524</td>\n",
       "      <td>3.047541</td>\n",
       "      <td>1.369357</td>\n",
       "      <td>5.067812</td>\n",
       "      <td>-1.940058</td>\n",
       "      <td>-1.872742</td>\n",
       "      <td>-1.255012</td>\n",
       "      <td>0.413441</td>\n",
       "      <td>0.862414</td>\n",
       "      <td>0.562139</td>\n",
       "      <td>0.781760</td>\n",
       "      <td>-0.005957</td>\n",
       "      <td>1</td>\n",
       "    </tr>\n",
       "    <tr>\n",
       "      <th>2</th>\n",
       "      <td>8.971707</td>\n",
       "      <td>8.848428</td>\n",
       "      <td>3.046479</td>\n",
       "      <td>1.214518</td>\n",
       "      <td>3.405158</td>\n",
       "      <td>-1.207456</td>\n",
       "      <td>-1.277210</td>\n",
       "      <td>-0.920492</td>\n",
       "      <td>0.163041</td>\n",
       "      <td>0.766689</td>\n",
       "      <td>0.839444</td>\n",
       "      <td>0.109853</td>\n",
       "      <td>0.003471</td>\n",
       "      <td>0</td>\n",
       "    </tr>\n",
       "    <tr>\n",
       "      <th>3</th>\n",
       "      <td>0.716415</td>\n",
       "      <td>7.669600</td>\n",
       "      <td>4.486641</td>\n",
       "      <td>2.340563</td>\n",
       "      <td>3.963791</td>\n",
       "      <td>-1.027473</td>\n",
       "      <td>-1.938944</td>\n",
       "      <td>-0.997374</td>\n",
       "      <td>0.446209</td>\n",
       "      <td>0.976744</td>\n",
       "      <td>0.929381</td>\n",
       "      <td>0.362718</td>\n",
       "      <td>0.028871</td>\n",
       "      <td>0</td>\n",
       "    </tr>\n",
       "    <tr>\n",
       "      <th>4</th>\n",
       "      <td>3.134112</td>\n",
       "      <td>7.608772</td>\n",
       "      <td>4.943759</td>\n",
       "      <td>9.857573</td>\n",
       "      <td>3.525811</td>\n",
       "      <td>-1.125531</td>\n",
       "      <td>-1.845975</td>\n",
       "      <td>-0.554305</td>\n",
       "      <td>0.797110</td>\n",
       "      <td>0.455450</td>\n",
       "      <td>0.656947</td>\n",
       "      <td>0.820923</td>\n",
       "      <td>0.049860</td>\n",
       "      <td>0</td>\n",
       "    </tr>\n",
       "  </tbody>\n",
       "</table>\n",
       "</div>"
      ],
      "text/plain": [
       "       tau1      tau2      tau3      tau4        p1        p2        p3  \\\n",
       "0  2.959060  3.079885  8.381025  9.780754  3.763085 -0.782604 -1.257395   \n",
       "1  9.304097  4.902524  3.047541  1.369357  5.067812 -1.940058 -1.872742   \n",
       "2  8.971707  8.848428  3.046479  1.214518  3.405158 -1.207456 -1.277210   \n",
       "3  0.716415  7.669600  4.486641  2.340563  3.963791 -1.027473 -1.938944   \n",
       "4  3.134112  7.608772  4.943759  9.857573  3.525811 -1.125531 -1.845975   \n",
       "\n",
       "         p4        g1        g2        g3        g4      stab  stabf  \n",
       "0 -1.723086  0.650456  0.859578  0.887445  0.958034  0.055347      0  \n",
       "1 -1.255012  0.413441  0.862414  0.562139  0.781760 -0.005957      1  \n",
       "2 -0.920492  0.163041  0.766689  0.839444  0.109853  0.003471      0  \n",
       "3 -0.997374  0.446209  0.976744  0.929381  0.362718  0.028871      0  \n",
       "4 -0.554305  0.797110  0.455450  0.656947  0.820923  0.049860      0  "
      ]
     },
     "execution_count": 6,
     "metadata": {},
     "output_type": "execute_result"
    }
   ],
   "source": [
    "df['stabf'] = df['stabf'].map({\n",
    "    'stable': 1,\n",
    "    'unstable': 0\n",
    "})\n",
    "df.head()"
   ]
  },
  {
   "cell_type": "code",
   "execution_count": 7,
   "id": "0bd9aa82-77f7-4eef-b72b-29452af9a603",
   "metadata": {},
   "outputs": [],
   "source": [
    "y = df.iloc[:, -1]\n",
    "X = df.drop('stabf', axis=1)\n",
    "\n",
    "X_train, X_test, y_train, y_test = train_test_split(X, y, test_size=0.2, random_state=56)\n",
    "X_val, X_test, y_val, y_test = train_test_split(X_test, y_test, test_size=0.5, random_state = 156)"
   ]
  },
  {
   "cell_type": "code",
   "execution_count": 8,
   "id": "b95dc00a-4d97-4bb0-9051-49eb475df7ce",
   "metadata": {},
   "outputs": [
    {
     "data": {
      "text/plain": [
       "((48000, 13), (48000,))"
      ]
     },
     "execution_count": 8,
     "metadata": {},
     "output_type": "execute_result"
    }
   ],
   "source": [
    "X_train.shape, y_train.shape"
   ]
  },
  {
   "cell_type": "code",
   "execution_count": 9,
   "id": "f535ab0e-b65e-46b7-a117-80b87a4371cc",
   "metadata": {},
   "outputs": [
    {
     "data": {
      "text/plain": [
       "((6000, 13), (6000,))"
      ]
     },
     "execution_count": 9,
     "metadata": {},
     "output_type": "execute_result"
    }
   ],
   "source": [
    "X_test.shape, y_test.shape"
   ]
  },
  {
   "cell_type": "code",
   "execution_count": 10,
   "id": "6d7e4379-274d-4b27-8c9c-72acbaafe230",
   "metadata": {},
   "outputs": [
    {
     "data": {
      "text/plain": [
       "((6000, 13), (6000,))"
      ]
     },
     "execution_count": 10,
     "metadata": {},
     "output_type": "execute_result"
    }
   ],
   "source": [
    "X_val.shape, y_val.shape"
   ]
  },
  {
   "cell_type": "code",
   "execution_count": 11,
   "id": "8565ddb9-78b2-4b52-b50a-a583b5779cc6",
   "metadata": {},
   "outputs": [],
   "source": [
    "pca = PCA(n_components=2)\n",
    "x2d = pca.fit_transform(X)\n",
    "x2d_df = pd.DataFrame(x2d)"
   ]
  },
  {
   "cell_type": "code",
   "execution_count": 12,
   "id": "c2601dc8-4130-49e4-af0c-5b8f8cfd16c9",
   "metadata": {},
   "outputs": [
    {
     "data": {
      "image/png": "[encoded data removed]",
      "text/plain": [
       "<Figure size 432x288 with 1 Axes>"
      ]
     },
     "metadata": {
      "needs_background": "light"
     },
     "output_type": "display_data"
    }
   ],
   "source": [
    "plt.plot(x2d_df[0][y==1], x2d_df[1][y==1], 'b.', ms=0.6, label='stable')\n",
    "plt.plot(x2d_df[0][y==0], x2d_df[1][y==0], 'r.', ms=0.6, label='unstable')\n",
    "plt.legend(loc=\"upper left\")\n",
    "plt.tight_layout()\n",
    "plt.show()"
   ]
  },
  {
   "cell_type": "code",
   "execution_count": 13,
   "id": "e64a6153-36de-46b8-b495-daaacb147edb",
   "metadata": {},
   "outputs": [],
   "source": [
    "def draw_cm(y_true, y_pred):\n",
    "    cm = confusion_matrix(y_true, y_pred)\n",
    "    cm = pd.DataFrame(cm, index=['unstable', 'stable'], columns=['unstable', 'stable'])\n",
    "    cm_sns = sns.heatmap(cm, cmap=\"Blues\", annot=True)\n",
    "    cm_sns.set_xlabel('predicted')\n",
    "    cm_sns.set_ylabel('actual')\n",
    "    plt.show()"
   ]
  },
  {
   "cell_type": "markdown",
   "id": "12dd681e-bcf8-4639-972d-1c38b2bb2e5c",
   "metadata": {
    "tags": []
   },
   "source": [
    "# Logistic Regression"
   ]
  },
  {
   "cell_type": "code",
   "execution_count": 14,
   "id": "06b663bf-c96e-4a3c-b0a3-ca3cfef0a9b3",
   "metadata": {},
   "outputs": [
    {
     "data": {
      "text/plain": [
       "0.9993333333333333"
      ]
     },
     "execution_count": 14,
     "metadata": {},
     "output_type": "execute_result"
    }
   ],
   "source": [
    "log_pipe = Pipeline([\n",
    "    ('std_scl', StandardScaler()), ('log_reg', LogisticRegression())\n",
    "])\n",
    "log_pipe.fit(X_train, y_train)\n",
    "accuracy_score(y_train, log_pipe.predict(X_train))"
   ]
  },
  {
   "cell_type": "code",
   "execution_count": 15,
   "id": "73a93a73-cbd6-4449-85b7-795b9d093e68",
   "metadata": {},
   "outputs": [
    {
     "data": {
      "text/plain": [
       "0.9996666666666667"
      ]
     },
     "execution_count": 15,
     "metadata": {},
     "output_type": "execute_result"
    }
   ],
   "source": [
    "accuracy_score(y_val, log_pipe.predict(X_val))"
   ]
  },
  {
   "cell_type": "code",
   "execution_count": 16,
   "id": "5194d13f-8887-4cd4-8ffd-be9ad4707dcc",
   "metadata": {},
   "outputs": [
    {
     "data": {
      "image/png": "[encoded data removed]",
      "text/plain": [
       "<Figure size 432x288 with 2 Axes>"
      ]
     },
     "metadata": {
      "needs_background": "light"
     },
     "output_type": "display_data"
    }
   ],
   "source": [
    "draw_cm(y_val, log_pipe.predict(X_val))"
   ]
  },
  {
   "cell_type": "code",
   "execution_count": 17,
   "id": "6ce43d46-0075-4b72-96c5-66ecc8081ccb",
   "metadata": {},
   "outputs": [],
   "source": [
    "table[\"Logistic Regression\"] = (accuracy_score(y_test, log_pipe.predict(X_test)), \n",
    "                               precision_score(y_test, log_pipe.predict(X_test)), \n",
    "                               recall_score(y_test, log_pipe.predict(X_test)),\n",
    "                               f1_score(y_test, log_pipe.predict(X_test)))"
   ]
  },
  {
   "cell_type": "markdown",
   "id": "9349c8d6-55e5-4db1-98fb-4b08e3563e1c",
   "metadata": {
    "tags": []
   },
   "source": [
    "# XGBoost"
   ]
  },
  {
   "cell_type": "code",
   "execution_count": 18,
   "id": "40c3f1c6-e45f-4630-be54-17cdee593a80",
   "metadata": {},
   "outputs": [
    {
     "name": "stdout",
     "output_type": "stream",
     "text": [
      "[23:12:50] WARNING: C:/Users/Administrator/workspace/xgboost-win64_release_1.5.1/src/learner.cc:1115: Starting in XGBoost 1.3.0, the default evaluation metric used with the objective 'binary:logistic' was changed from 'error' to 'logloss'. Explicitly set eval_metric if you'd like to restore the old behavior.\n"
     ]
    },
    {
     "data": {
      "text/plain": [
       "1.0"
      ]
     },
     "execution_count": 18,
     "metadata": {},
     "output_type": "execute_result"
    }
   ],
   "source": [
    "xgb_clf = XGBClassifier(n_jobs=-1, use_label_encoder=False)\n",
    "xgb_clf.fit(X_train, y_train)\n",
    "accuracy_score(y_train, xgb_clf.predict(X_train))"
   ]
  },
  {
   "cell_type": "code",
   "execution_count": 19,
   "id": "1b21a961-7289-4512-a705-5f7d2c1c68a5",
   "metadata": {},
   "outputs": [
    {
     "data": {
      "text/plain": [
       "1.0"
      ]
     },
     "execution_count": 19,
     "metadata": {},
     "output_type": "execute_result"
    }
   ],
   "source": [
    "accuracy_score(y_val, xgb_clf.predict(X_val))"
   ]
  },
  {
   "cell_type": "code",
   "execution_count": 20,
   "id": "28d5f5e7-193c-40c2-86a6-45fb3fae9929",
   "metadata": {},
   "outputs": [
    {
     "data": {
      "image/png": "[encoded data removed]",
      "text/plain": [
       "<Figure size 432x288 with 2 Axes>"
      ]
     },
     "metadata": {
      "needs_background": "light"
     },
     "output_type": "display_data"
    }
   ],
   "source": [
    "draw_cm(y_val, xgb_clf.predict(X_val))"
   ]
  },
  {
   "cell_type": "code",
   "execution_count": 21,
   "id": "440c76e5-ed32-4363-bc42-a5ea810c7856",
   "metadata": {},
   "outputs": [],
   "source": [
    "table[\"XG Boost\"] = (accuracy_score(y_test, xgb_clf.predict(X_test)), \n",
    "                               precision_score(y_test, xgb_clf.predict(X_test)), \n",
    "                               recall_score(y_test, xgb_clf.predict(X_test)),\n",
    "                               f1_score(y_test, xgb_clf.predict(X_test)))"
   ]
  },
  {
   "cell_type": "markdown",
   "id": "4900da6f-011c-4f3e-b1d6-4c43f7fb40b3",
   "metadata": {
    "tags": []
   },
   "source": [
    "# Linear SVM"
   ]
  },
  {
   "cell_type": "code",
   "execution_count": 22,
   "id": "e665e61d-05c1-4f95-a50f-e83ea289c302",
   "metadata": {},
   "outputs": [
    {
     "data": {
      "text/plain": [
       "0.9994791666666667"
      ]
     },
     "execution_count": 22,
     "metadata": {},
     "output_type": "execute_result"
    }
   ],
   "source": [
    "svm_pipe = Pipeline([\n",
    "    ('std_scl', StandardScaler()), ('svm', LinearSVC())\n",
    "])\n",
    "svm_pipe.fit(X_train, y_train)\n",
    "accuracy_score(y_train, svm_pipe.predict(X_train))"
   ]
  },
  {
   "cell_type": "code",
   "execution_count": 23,
   "id": "6217d360-8249-4a50-8133-0d6174a37339",
   "metadata": {},
   "outputs": [
    {
     "data": {
      "text/plain": [
       "0.9991666666666666"
      ]
     },
     "execution_count": 23,
     "metadata": {},
     "output_type": "execute_result"
    }
   ],
   "source": [
    "accuracy_score(y_val, svm_pipe.predict(X_val))"
   ]
  },
  {
   "cell_type": "code",
   "execution_count": 24,
   "id": "766edca0-8ad3-4653-ac97-30fba609602a",
   "metadata": {},
   "outputs": [
    {
     "data": {
      "image/png": "[encoded data removed]",
      "text/plain": [
       "<Figure size 432x288 with 2 Axes>"
      ]
     },
     "metadata": {
      "needs_background": "light"
     },
     "output_type": "display_data"
    }
   ],
   "source": [
    "draw_cm(y_val, svm_pipe.predict(X_val))"
   ]
  },
  {
   "cell_type": "code",
   "execution_count": 25,
   "id": "7afe27fd-3713-4b68-82ec-12497ea8c9ea",
   "metadata": {},
   "outputs": [],
   "source": [
    "table[\"Linear SVM\"] = (accuracy_score(y_test, svm_pipe.predict(X_test)), \n",
    "                               precision_score(y_test, svm_pipe.predict(X_test)), \n",
    "                               recall_score(y_test, svm_pipe.predict(X_test)),\n",
    "                               f1_score(y_test, svm_pipe.predict(X_test)))"
   ]
  },
  {
   "cell_type": "markdown",
   "id": "292c47d9-4fb2-4c7a-81d7-4480aa8165ea",
   "metadata": {
    "tags": []
   },
   "source": [
    "# SVM with RBF Kernel"
   ]
  },
  {
   "cell_type": "code",
   "execution_count": 26,
   "id": "cfa5cae3-e61d-4bd4-89c2-29c8d36a1bf0",
   "metadata": {},
   "outputs": [
    {
     "data": {
      "text/plain": [
       "0.9963958333333334"
      ]
     },
     "execution_count": 26,
     "metadata": {},
     "output_type": "execute_result"
    }
   ],
   "source": [
    "svm = Pipeline([\n",
    "    ('std_scl', StandardScaler()), ('svm', SVC(kernel='rbf'))\n",
    "])\n",
    "svm.fit(X_train, y_train)\n",
    "accuracy_score(y_train, svm.predict(X_train))"
   ]
  },
  {
   "cell_type": "code",
   "execution_count": 27,
   "id": "1cb64fc6-0376-4bd3-815f-b287bf8a27cc",
   "metadata": {},
   "outputs": [
    {
     "data": {
      "text/plain": [
       "0.9945"
      ]
     },
     "execution_count": 27,
     "metadata": {},
     "output_type": "execute_result"
    }
   ],
   "source": [
    "accuracy_score(y_val, svm.predict(X_val))"
   ]
  },
  {
   "cell_type": "code",
   "execution_count": 28,
   "id": "c84c250c-f922-4c08-ac3e-a87c64f3b86a",
   "metadata": {},
   "outputs": [
    {
     "data": {
      "image/png": "[encoded data removed]",
      "text/plain": [
       "<Figure size 432x288 with 2 Axes>"
      ]
     },
     "metadata": {
      "needs_background": "light"
     },
     "output_type": "display_data"
    }
   ],
   "source": [
    "draw_cm(y_val, svm.predict(X_val))"
   ]
  },
  {
   "cell_type": "code",
   "execution_count": 29,
   "id": "a42aa78d-738e-42f3-aff2-15ba2295286d",
   "metadata": {},
   "outputs": [],
   "source": [
    "table[\"SVM - RBF kernel\"] = (accuracy_score(y_test, svm.predict(X_test)), \n",
    "                               precision_score(y_test, svm.predict(X_test)), \n",
    "                               recall_score(y_test, svm.predict(X_test)),\n",
    "                               f1_score(y_test, svm.predict(X_test)))"
   ]
  },
  {
   "cell_type": "markdown",
   "id": "976e04db-90a1-4bab-ae17-a7f2ba4c76d7",
   "metadata": {
    "tags": []
   },
   "source": [
    "# Neural Network"
   ]
  },
  {
   "cell_type": "code",
   "execution_count": 30,
   "id": "564a000f-711f-4c02-bb91-bee2cff43a45",
   "metadata": {},
   "outputs": [],
   "source": [
    "check_pointss = ModelCheckpoint(\"MinorProject_sgs.h5\")\n",
    "\n",
    "early_stoppingg = EarlyStopping(patience=10, restore_best_weights=True)"
   ]
  },
  {
   "cell_type": "code",
   "execution_count": 31,
   "id": "d567f4f2-cb82-4f5d-ba5c-2371687599b5",
   "metadata": {},
   "outputs": [
    {
     "name": "stdout",
     "output_type": "stream",
     "text": [
      "Model: \"nn_clf\"\n",
      "_________________________________________________________________\n",
      " Layer (type)                Output Shape              Param #   \n",
      "=================================================================\n",
      " batch_normalization (BatchN  (None, 13)               52        \n",
      " ormalization)                                                   \n",
      "                                                                 \n",
      " dense (Dense)               (None, 64)                896       \n",
      "                                                                 \n",
      " dense_1 (Dense)             (None, 256)               16640     \n",
      "                                                                 \n",
      " dense_2 (Dense)             (None, 1)                 257       \n",
      "                                                                 \n",
      "=================================================================\n",
      "Total params: 17,845\n",
      "Trainable params: 17,819\n",
      "Non-trainable params: 26\n",
      "_________________________________________________________________\n"
     ]
    }
   ],
   "source": [
    "nn_clf = tf.keras.models.Sequential([\n",
    "    InputLayer(input_shape=13),\n",
    "    BatchNormalization(),\n",
    "    Dense(units=64, activation='relu'),\n",
    "    Dense(units=256, activation='relu'),\n",
    "    Dense(units=1, activation='sigmoid')\n",
    "], name='nn_clf')\n",
    "nn_clf.summary()"
   ]
  },
  {
   "cell_type": "code",
   "execution_count": 32,
   "id": "29b7739b-39d8-422f-ade3-21b7dea77b9b",
   "metadata": {},
   "outputs": [],
   "source": [
    "nn_clf.compile(loss='binary_crossentropy', \n",
    "              optimizer=tf.keras.optimizers.Adam(),\n",
    "              metrics=['accuracy'])"
   ]
  },
  {
   "cell_type": "code",
   "execution_count": 33,
   "id": "5d41299e-b34f-4950-b714-db3b6a9fe415",
   "metadata": {},
   "outputs": [
    {
     "name": "stdout",
     "output_type": "stream",
     "text": [
      "Epoch 1/40\n",
      "1500/1500 [==============================] - 6s 3ms/step - loss: 0.1209 - accuracy: 0.9490 - val_loss: 0.0437 - val_accuracy: 0.9900\n",
      "Epoch 2/40\n",
      "1500/1500 [==============================] - 4s 3ms/step - loss: 0.0958 - accuracy: 0.9585 - val_loss: 0.0434 - val_accuracy: 0.9840\n",
      "Epoch 3/40\n",
      "1500/1500 [==============================] - 4s 3ms/step - loss: 0.0953 - accuracy: 0.9591 - val_loss: 0.0417 - val_accuracy: 0.9877\n",
      "Epoch 4/40\n",
      "1500/1500 [==============================] - 4s 3ms/step - loss: 0.0951 - accuracy: 0.9584 - val_loss: 0.0474 - val_accuracy: 0.9928\n",
      "Epoch 5/40\n",
      "1500/1500 [==============================] - 4s 3ms/step - loss: 0.0904 - accuracy: 0.9617 - val_loss: 0.0379 - val_accuracy: 0.9870\n",
      "Epoch 6/40\n",
      "1500/1500 [==============================] - 4s 3ms/step - loss: 0.0897 - accuracy: 0.9616 - val_loss: 0.0413 - val_accuracy: 0.9908\n",
      "Epoch 7/40\n",
      "1500/1500 [==============================] - 4s 3ms/step - loss: 0.0898 - accuracy: 0.9613 - val_loss: 0.0387 - val_accuracy: 0.9930\n",
      "Epoch 8/40\n",
      "1500/1500 [==============================] - 4s 3ms/step - loss: 0.0877 - accuracy: 0.9624 - val_loss: 0.0405 - val_accuracy: 0.9898\n",
      "Epoch 9/40\n",
      "1500/1500 [==============================] - 4s 3ms/step - loss: 0.0888 - accuracy: 0.9621 - val_loss: 0.0449 - val_accuracy: 0.9943\n",
      "Epoch 10/40\n",
      "1500/1500 [==============================] - 4s 3ms/step - loss: 0.0901 - accuracy: 0.9622 - val_loss: 0.0410 - val_accuracy: 0.9943\n",
      "Epoch 11/40\n",
      "1500/1500 [==============================] - 4s 3ms/step - loss: 0.0924 - accuracy: 0.9601 - val_loss: 0.0375 - val_accuracy: 0.9942\n",
      "Epoch 12/40\n",
      "1500/1500 [==============================] - 5s 3ms/step - loss: 0.0873 - accuracy: 0.9626 - val_loss: 0.0349 - val_accuracy: 0.9935\n",
      "Epoch 13/40\n",
      "1500/1500 [==============================] - 5s 3ms/step - loss: 0.0912 - accuracy: 0.9608 - val_loss: 0.0400 - val_accuracy: 0.9920\n",
      "Epoch 14/40\n",
      "1500/1500 [==============================] - 4s 3ms/step - loss: 0.0905 - accuracy: 0.9622 - val_loss: 0.0406 - val_accuracy: 0.9883\n",
      "Epoch 15/40\n",
      "1500/1500 [==============================] - 4s 3ms/step - loss: 0.0917 - accuracy: 0.9601 - val_loss: 0.0478 - val_accuracy: 0.9910\n",
      "Epoch 16/40\n",
      "1500/1500 [==============================] - 4s 3ms/step - loss: 0.0893 - accuracy: 0.9621 - val_loss: 0.0379 - val_accuracy: 0.9947\n",
      "Epoch 17/40\n",
      "1500/1500 [==============================] - 4s 3ms/step - loss: 0.0872 - accuracy: 0.9641 - val_loss: 0.0363 - val_accuracy: 0.9948\n",
      "Epoch 18/40\n",
      "1500/1500 [==============================] - 5s 3ms/step - loss: 0.0900 - accuracy: 0.9622 - val_loss: 0.0368 - val_accuracy: 0.9930\n",
      "Epoch 19/40\n",
      "1500/1500 [==============================] - 4s 3ms/step - loss: 0.0884 - accuracy: 0.9613 - val_loss: 0.0448 - val_accuracy: 0.9948\n",
      "Epoch 20/40\n",
      "1500/1500 [==============================] - 4s 3ms/step - loss: 0.0922 - accuracy: 0.9610 - val_loss: 0.0414 - val_accuracy: 0.9945\n",
      "Epoch 21/40\n",
      "1500/1500 [==============================] - 4s 3ms/step - loss: 0.0866 - accuracy: 0.9632 - val_loss: 0.0360 - val_accuracy: 0.9952\n",
      "Epoch 22/40\n",
      "1500/1500 [==============================] - 4s 3ms/step - loss: 0.0881 - accuracy: 0.9627 - val_loss: 0.0402 - val_accuracy: 0.9910\n"
     ]
    }
   ],
   "source": [
    "history = nn_clf.fit(X_train, y_train, epochs=40, \n",
    "                    validation_data = (X_val, y_val), callbacks=[check_pointss, early_stoppingg])"
   ]
  },
  {
   "cell_type": "code",
   "execution_count": 34,
   "id": "4deb306e-7a99-4dc1-80ea-77289b79880b",
   "metadata": {},
   "outputs": [
    {
     "data": {
      "image/png": "[encoded data removed]",
      "text/plain": [
       "<Figure size 432x288 with 1 Axes>"
      ]
     },
     "metadata": {
      "needs_background": "light"
     },
     "output_type": "display_data"
    }
   ],
   "source": [
    "plt.plot(history.history['accuracy'])\n",
    "plt.plot(history.history['val_accuracy'])\n",
    "plt.title('Model Accuracy')\n",
    "plt.xlabel('epoch')\n",
    "plt.ylabel('accuracy')\n",
    "plt.legend(['train', 'val'])\n",
    "plt.grid(True)\n",
    "plt.gca().set_ylim(0.9, 1.0)\n",
    "plt.tight_layout()\n",
    "plt.show()"
   ]
  },
  {
   "cell_type": "code",
   "execution_count": 35,
   "id": "753bcde7-89db-4b17-b3cb-7714d999546c",
   "metadata": {},
   "outputs": [
    {
     "data": {
      "text/plain": [
       "0.9918333333333333"
      ]
     },
     "execution_count": 35,
     "metadata": {},
     "output_type": "execute_result"
    }
   ],
   "source": [
    "accuracy_score(y_test, (nn_clf.predict(X_test) > 0.5))"
   ]
  },
  {
   "cell_type": "code",
   "execution_count": 36,
   "id": "75c8a8ac-6a31-462c-b76b-4b3f4d885c02",
   "metadata": {},
   "outputs": [
    {
     "data": {
      "image/png": "[encoded data removed]",
      "text/plain": [
       "<Figure size 432x288 with 2 Axes>"
      ]
     },
     "metadata": {
      "needs_background": "light"
     },
     "output_type": "display_data"
    }
   ],
   "source": [
    "draw_cm(y_val, (nn_clf.predict(X_val) > 0.5))"
   ]
  },
  {
   "cell_type": "code",
   "execution_count": 38,
   "id": "608c3ea9-affa-4332-9b1b-85a0a6d7d7ed",
   "metadata": {},
   "outputs": [],
   "source": [
    "table[\"Neural Network\"] = (accuracy_score(y_test, (nn_clf.predict(X_test) > 0.5)), \n",
    "                               precision_score(y_test, (nn_clf.predict(X_test) > 0.5)), \n",
    "                               recall_score(y_test, (nn_clf.predict(X_test) > 0.5)),\n",
    "                               f1_score(y_test, (nn_clf.predict(X_test) > 0.5)))"
   ]
  },
  {
   "cell_type": "code",
   "execution_count": 39,
   "id": "2cb11bdf-7d5c-4289-9d31-62e0a1e0e603",
   "metadata": {},
   "outputs": [
    {
     "data": {
      "text/html": [
       "<div>\n",
       "<style scoped>\n",
       "    .dataframe tbody tr th:only-of-type {\n",
       "        vertical-align: middle;\n",
       "    }\n",
       "\n",
       "    .dataframe tbody tr th {\n",
       "        vertical-align: top;\n",
       "    }\n",
       "\n",
       "    .dataframe thead th {\n",
       "        text-align: right;\n",
       "    }\n",
       "</style>\n",
       "<table border=\"1\" class=\"dataframe\">\n",
       "  <thead>\n",
       "    <tr style=\"text-align: right;\">\n",
       "      <th></th>\n",
       "      <th>Logistic Regression</th>\n",
       "      <th>XG Boost</th>\n",
       "      <th>Linear SVM</th>\n",
       "      <th>SVM - RBF kernel</th>\n",
       "      <th>Neural Network</th>\n",
       "    </tr>\n",
       "  </thead>\n",
       "  <tbody>\n",
       "    <tr>\n",
       "      <th>accuracy</th>\n",
       "      <td>0.999333</td>\n",
       "      <td>1.0</td>\n",
       "      <td>0.999333</td>\n",
       "      <td>0.993500</td>\n",
       "      <td>0.991833</td>\n",
       "    </tr>\n",
       "    <tr>\n",
       "      <th>precision</th>\n",
       "      <td>1.000000</td>\n",
       "      <td>1.0</td>\n",
       "      <td>1.000000</td>\n",
       "      <td>0.992701</td>\n",
       "      <td>0.985547</td>\n",
       "    </tr>\n",
       "    <tr>\n",
       "      <th>recall</th>\n",
       "      <td>0.998181</td>\n",
       "      <td>1.0</td>\n",
       "      <td>0.998181</td>\n",
       "      <td>0.989541</td>\n",
       "      <td>0.992269</td>\n",
       "    </tr>\n",
       "    <tr>\n",
       "      <th>f1score</th>\n",
       "      <td>0.999090</td>\n",
       "      <td>1.0</td>\n",
       "      <td>0.999090</td>\n",
       "      <td>0.991118</td>\n",
       "      <td>0.988896</td>\n",
       "    </tr>\n",
       "  </tbody>\n",
       "</table>\n",
       "</div>"
      ],
      "text/plain": [
       "           Logistic Regression  XG Boost  Linear SVM  SVM - RBF kernel  \\\n",
       "accuracy              0.999333       1.0    0.999333          0.993500   \n",
       "precision             1.000000       1.0    1.000000          0.992701   \n",
       "recall                0.998181       1.0    0.998181          0.989541   \n",
       "f1score               0.999090       1.0    0.999090          0.991118   \n",
       "\n",
       "           Neural Network  \n",
       "accuracy         0.991833  \n",
       "precision        0.985547  \n",
       "recall           0.992269  \n",
       "f1score          0.988896  "
      ]
     },
     "execution_count": 39,
     "metadata": {},
     "output_type": "execute_result"
    }
   ],
   "source": [
    "pd.DataFrame(table, index=[\"accuracy\", \"precision\", \"recall\", \"f1score\"])"
   ]
  },
  {
   "cell_type": "code",
   "execution_count": null,
   "id": "69c35213-5f5c-48c9-8e1e-1b436c992bba",
   "metadata": {},
   "outputs": [],
   "source": []
  }
 ],
 "metadata": {
  "kernelspec": {
   "display_name": "Python 3 (ipykernel)",
   "language": "python",
   "name": "python3"
  },
  "language_info": {
   "codemirror_mode": {
    "name": "ipython",
    "version": 3
   },
   "file_extension": ".py",
   "mimetype": "text/x-python",
   "name": "python",
   "nbconvert_exporter": "python",
   "pygments_lexer": "ipython3",
   "version": "3.10.1"
  }
 },
 "nbformat": 4,
 "nbformat_minor": 5
}
